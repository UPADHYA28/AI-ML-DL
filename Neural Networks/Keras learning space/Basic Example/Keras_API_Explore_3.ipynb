{
  "nbformat": 4,
  "nbformat_minor": 0,
  "metadata": {
    "colab": {
      "name": "Keras_API_Explore_3.ipynb",
      "provenance": [],
      "collapsed_sections": []
    },
    "kernelspec": {
      "name": "python3",
      "display_name": "Python 3"
    },
    "accelerator": "GPU"
  },
  "cells": [
    {
      "cell_type": "code",
      "metadata": {
        "id": "iMYBhPQksZVw",
        "colab_type": "code",
        "colab": {}
      },
      "source": [
        "import numpy as np\n",
        "from random import randint\n",
        "from sklearn.utils import shuffle;\n",
        "from sklearn.preprocessing import MinMaxScaler\n",
        "import tensorflow as tf\n",
        "from tensorflow import keras\n",
        "from tensorflow.keras.models import Sequential\n",
        "from tensorflow.keras.layers import Activation, Dense\n",
        "from tensorflow.keras.optimizers import Adam\n",
        "from tensorflow.keras.metrics import categorical_crossentropy\n",
        "%matplotlib inline\n",
        "from sklearn.metrics import confusion_matrix\n",
        "import itertools\n",
        "import matplotlib.pyplot as plt"
      ],
      "execution_count": 56,
      "outputs": []
    },
    {
      "cell_type": "code",
      "metadata": {
        "id": "vU4U94KksvUX",
        "colab_type": "code",
        "colab": {}
      },
      "source": [
        "train_labels = []\n",
        "train_samples = []"
      ],
      "execution_count": 57,
      "outputs": []
    },
    {
      "cell_type": "markdown",
      "metadata": {
        "id": "1UbVrRW4ueDW",
        "colab_type": "text"
      },
      "source": [
        "As motivation for this data, let’s suppose that an experimental drug was tested on individuals ranging from age 13 to 100 in a clinical trial. The trial had 2100 participants. Half of the participants were under 65 years old, and the other half was 65 years of age or older.\n",
        "\n",
        "The trial showed that around 95% of patients 65 or older experienced side effects from the drug, and around 95% of patients under 65 experienced no side effects, generally showing that elderly individuals were more likely to experience side effects."
      ]
    },
    {
      "cell_type": "code",
      "metadata": {
        "id": "RjZSySjLs22g",
        "colab_type": "code",
        "colab": {}
      },
      "source": [
        "for i in range(50):\n",
        "  random_younger = randint(13,64)\n",
        "  train_samples.append(random_younger);\n",
        "  train_labels.append(1)\n",
        "\n",
        "# The ~5% of older individuals who did not experience side effects\n",
        "  random_older = randint(65,100)\n",
        "  train_samples.append(random_older)\n",
        "  train_labels.append(0)\n",
        "\n",
        "for i in range(1000):\n",
        "    # The ~95% of younger individuals who did not experience side effects\n",
        "    random_younger = randint(13,64)\n",
        "    train_samples.append(random_younger)\n",
        "    train_labels.append(0)\n",
        "\n",
        "    # The ~95% of older individuals who did experience side effects\n",
        "    random_older = randint(65,100)\n",
        "    train_samples.append(random_older)\n",
        "    train_labels.append(1)\n"
      ],
      "execution_count": 58,
      "outputs": []
    },
    {
      "cell_type": "code",
      "metadata": {
        "id": "_y_oTjv9uNUE",
        "colab_type": "code",
        "colab": {}
      },
      "source": [
        "train_labels = np.array(train_labels)\n",
        "train_samples = np.array(train_samples)\n",
        "train_labels, train_samples = shuffle(train_labels, train_samples);"
      ],
      "execution_count": 59,
      "outputs": []
    },
    {
      "cell_type": "code",
      "metadata": {
        "id": "Y_uw1PK6uvM4",
        "colab_type": "code",
        "colab": {}
      },
      "source": [
        "scaler = MinMaxScaler(feature_range=(0,1))\n",
        "scaled_train_samples = scaler.fit_transform(train_samples.reshape(-1, 1))"
      ],
      "execution_count": 60,
      "outputs": []
    },
    {
      "cell_type": "code",
      "metadata": {
        "id": "h7PV-MQcvBfR",
        "colab_type": "code",
        "colab": {}
      },
      "source": [
        "model = Sequential([Dense(units=16, input_shape=(1,), activation='relu'), Dense(units=32, activation='relu'), Dense(units=2, activation='softmax')])"
      ],
      "execution_count": 61,
      "outputs": []
    },
    {
      "cell_type": "code",
      "metadata": {
        "id": "0it-sDwkvjnJ",
        "colab_type": "code",
        "colab": {
          "base_uri": "https://localhost:8080/",
          "height": 266
        },
        "outputId": "b6a32083-74bb-4225-a225-ac89c9e74dcb"
      },
      "source": [
        "model.summary()"
      ],
      "execution_count": 62,
      "outputs": [
        {
          "output_type": "stream",
          "text": [
            "Model: \"sequential_4\"\n",
            "_________________________________________________________________\n",
            "Layer (type)                 Output Shape              Param #   \n",
            "=================================================================\n",
            "dense_12 (Dense)             (None, 16)                32        \n",
            "_________________________________________________________________\n",
            "dense_13 (Dense)             (None, 32)                544       \n",
            "_________________________________________________________________\n",
            "dense_14 (Dense)             (None, 2)                 66        \n",
            "=================================================================\n",
            "Total params: 642\n",
            "Trainable params: 642\n",
            "Non-trainable params: 0\n",
            "_________________________________________________________________\n"
          ],
          "name": "stdout"
        }
      ]
    },
    {
      "cell_type": "code",
      "metadata": {
        "id": "Ie24eHTDygkI",
        "colab_type": "code",
        "colab": {}
      },
      "source": [
        "model.compile(optimizer=Adam(learning_rate=0.0001), loss='sparse_categorical_crossentropy', metrics=['accuracy'])\n"
      ],
      "execution_count": 63,
      "outputs": []
    },
    {
      "cell_type": "code",
      "metadata": {
        "id": "y5-KuiwK17uU",
        "colab_type": "code",
        "colab": {
          "base_uri": "https://localhost:8080/",
          "height": 1000
        },
        "outputId": "29b39ebe-75ee-409e-de06-decd71e50aa3"
      },
      "source": [
        "model.fit(x=scaled_train_samples, y=train_labels, batch_size=10, epochs=30, verbose=2, validation_split=0.3)\n"
      ],
      "execution_count": 64,
      "outputs": [
        {
          "output_type": "stream",
          "text": [
            "Epoch 1/30\n",
            "147/147 - 0s - loss: 0.6931 - accuracy: 0.4435 - val_loss: 0.6834 - val_accuracy: 0.5286\n",
            "Epoch 2/30\n",
            "147/147 - 0s - loss: 0.6750 - accuracy: 0.5483 - val_loss: 0.6668 - val_accuracy: 0.5556\n",
            "Epoch 3/30\n",
            "147/147 - 0s - loss: 0.6579 - accuracy: 0.6020 - val_loss: 0.6447 - val_accuracy: 0.6619\n",
            "Epoch 4/30\n",
            "147/147 - 0s - loss: 0.6343 - accuracy: 0.6912 - val_loss: 0.6216 - val_accuracy: 0.7429\n",
            "Epoch 5/30\n",
            "147/147 - 0s - loss: 0.6126 - accuracy: 0.7374 - val_loss: 0.5990 - val_accuracy: 0.7619\n",
            "Epoch 6/30\n",
            "147/147 - 0s - loss: 0.5889 - accuracy: 0.7667 - val_loss: 0.5715 - val_accuracy: 0.8048\n",
            "Epoch 7/30\n",
            "147/147 - 0s - loss: 0.5590 - accuracy: 0.7966 - val_loss: 0.5397 - val_accuracy: 0.8349\n",
            "Epoch 8/30\n",
            "147/147 - 0s - loss: 0.5302 - accuracy: 0.8184 - val_loss: 0.5123 - val_accuracy: 0.8571\n",
            "Epoch 9/30\n",
            "147/147 - 0s - loss: 0.5046 - accuracy: 0.8286 - val_loss: 0.4864 - val_accuracy: 0.8683\n",
            "Epoch 10/30\n",
            "147/147 - 0s - loss: 0.4799 - accuracy: 0.8449 - val_loss: 0.4618 - val_accuracy: 0.8841\n",
            "Epoch 11/30\n",
            "147/147 - 0s - loss: 0.4567 - accuracy: 0.8592 - val_loss: 0.4382 - val_accuracy: 0.8937\n",
            "Epoch 12/30\n",
            "147/147 - 0s - loss: 0.4347 - accuracy: 0.8701 - val_loss: 0.4160 - val_accuracy: 0.8937\n",
            "Epoch 13/30\n",
            "147/147 - 0s - loss: 0.4147 - accuracy: 0.8776 - val_loss: 0.3963 - val_accuracy: 0.9048\n",
            "Epoch 14/30\n",
            "147/147 - 0s - loss: 0.3964 - accuracy: 0.8810 - val_loss: 0.3790 - val_accuracy: 0.9095\n",
            "Epoch 15/30\n",
            "147/147 - 0s - loss: 0.3803 - accuracy: 0.8871 - val_loss: 0.3627 - val_accuracy: 0.9095\n",
            "Epoch 16/30\n",
            "147/147 - 0s - loss: 0.3660 - accuracy: 0.8925 - val_loss: 0.3482 - val_accuracy: 0.9175\n",
            "Epoch 17/30\n",
            "147/147 - 0s - loss: 0.3534 - accuracy: 0.8925 - val_loss: 0.3366 - val_accuracy: 0.9238\n",
            "Epoch 18/30\n",
            "147/147 - 0s - loss: 0.3425 - accuracy: 0.9020 - val_loss: 0.3258 - val_accuracy: 0.9238\n",
            "Epoch 19/30\n",
            "147/147 - 0s - loss: 0.3330 - accuracy: 0.9014 - val_loss: 0.3162 - val_accuracy: 0.9238\n",
            "Epoch 20/30\n",
            "147/147 - 0s - loss: 0.3250 - accuracy: 0.9034 - val_loss: 0.3082 - val_accuracy: 0.9238\n",
            "Epoch 21/30\n",
            "147/147 - 0s - loss: 0.3179 - accuracy: 0.9102 - val_loss: 0.3012 - val_accuracy: 0.9317\n",
            "Epoch 22/30\n",
            "147/147 - 0s - loss: 0.3119 - accuracy: 0.9129 - val_loss: 0.2949 - val_accuracy: 0.9317\n",
            "Epoch 23/30\n",
            "147/147 - 0s - loss: 0.3065 - accuracy: 0.9143 - val_loss: 0.2895 - val_accuracy: 0.9317\n",
            "Epoch 24/30\n",
            "147/147 - 0s - loss: 0.3018 - accuracy: 0.9143 - val_loss: 0.2849 - val_accuracy: 0.9317\n",
            "Epoch 25/30\n",
            "147/147 - 0s - loss: 0.2979 - accuracy: 0.9129 - val_loss: 0.2812 - val_accuracy: 0.9317\n",
            "Epoch 26/30\n",
            "147/147 - 0s - loss: 0.2943 - accuracy: 0.9204 - val_loss: 0.2775 - val_accuracy: 0.9317\n",
            "Epoch 27/30\n",
            "147/147 - 0s - loss: 0.2913 - accuracy: 0.9211 - val_loss: 0.2741 - val_accuracy: 0.9413\n",
            "Epoch 28/30\n",
            "147/147 - 0s - loss: 0.2883 - accuracy: 0.9170 - val_loss: 0.2716 - val_accuracy: 0.9413\n",
            "Epoch 29/30\n",
            "147/147 - 0s - loss: 0.2860 - accuracy: 0.9238 - val_loss: 0.2694 - val_accuracy: 0.9413\n",
            "Epoch 30/30\n",
            "147/147 - 0s - loss: 0.2838 - accuracy: 0.9238 - val_loss: 0.2668 - val_accuracy: 0.9413\n"
          ],
          "name": "stdout"
        },
        {
          "output_type": "execute_result",
          "data": {
            "text/plain": [
              "<tensorflow.python.keras.callbacks.History at 0x7fd2fe178908>"
            ]
          },
          "metadata": {
            "tags": []
          },
          "execution_count": 64
        }
      ]
    },
    {
      "cell_type": "code",
      "metadata": {
        "id": "HtcHpy4g2BYD",
        "colab_type": "code",
        "colab": {}
      },
      "source": [
        "test_labels =  []\n",
        "test_samples = []\n",
        "\n",
        "for i in range(10):\n",
        "    # The 5% of younger individuals who did experience side effects\n",
        "    random_younger = randint(13,64)\n",
        "    test_samples.append(random_younger)\n",
        "    test_labels.append(1)\n",
        "\n",
        "    # The 5% of older individuals who did not experience side effects\n",
        "    random_older = randint(65,100)\n",
        "    test_samples.append(random_older)\n",
        "    test_labels.append(0)\n",
        "\n",
        "for i in range(200):\n",
        "    # The 95% of younger individuals who did not experience side effects\n",
        "    random_younger = randint(13,64)\n",
        "    test_samples.append(random_younger)\n",
        "    test_labels.append(0)\n",
        "\n",
        "    # The 95% of older individuals who did experience side effects\n",
        "    random_older = randint(65,100)\n",
        "    test_samples.append(random_older)\n",
        "    test_labels.append(1)\n",
        "\n",
        "test_labels = np.array(test_labels)\n",
        "test_samples = np.array(test_samples)\n",
        "test_labels, test_samples = shuffle(test_labels, test_samples)\n",
        "\n",
        "scaled_test_samples = scaler.fit_transform(test_samples.reshape(-1,1))"
      ],
      "execution_count": 65,
      "outputs": []
    },
    {
      "cell_type": "code",
      "metadata": {
        "id": "VOsAqZ4P-L2W",
        "colab_type": "code",
        "colab": {}
      },
      "source": [
        "predictions = model.predict(x=scaled_test_samples, batch_size=10, verbose=0) "
      ],
      "execution_count": 66,
      "outputs": []
    },
    {
      "cell_type": "code",
      "metadata": {
        "id": "4tONGI2a-PK-",
        "colab_type": "code",
        "colab": {}
      },
      "source": [
        "rounded_predictions = np.argmax(predictions, axis=-1)\n",
        "cm = confusion_matrix(y_true=test_labels, y_pred=rounded_predictions)"
      ],
      "execution_count": 67,
      "outputs": []
    },
    {
      "cell_type": "code",
      "metadata": {
        "id": "lec8XIp1AG1k",
        "colab_type": "code",
        "colab": {}
      },
      "source": [
        "def plot_confusion_matrix(cm, classes,\n",
        "                        normalize=False,\n",
        "                        title='Confusion matrix',\n",
        "                        cmap=plt.cm.Blues):\n",
        "    \"\"\"\n",
        "    This function prints and plots the confusion matrix.\n",
        "    Normalization can be applied by setting `normalize=True`.\n",
        "    \"\"\"\n",
        "    plt.imshow(cm, interpolation='nearest', cmap=cmap)\n",
        "    plt.title(title)\n",
        "    plt.colorbar()\n",
        "    tick_marks = np.arange(len(classes))\n",
        "    plt.xticks(tick_marks, classes, rotation=45)\n",
        "    plt.yticks(tick_marks, classes)\n",
        "\n",
        "    if normalize:\n",
        "        cm = cm.astype('float') / cm.sum(axis=1)[:, np.newaxis]\n",
        "        print(\"Normalized confusion matrix\")\n",
        "    else:\n",
        "        print('Confusion matrix, without normalization')\n",
        "\n",
        "    print(cm)\n",
        "\n",
        "    thresh = cm.max() / 2.\n",
        "    for i, j in itertools.product(range(cm.shape[0]), range(cm.shape[1])):\n",
        "        plt.text(j, i, cm[i, j],\n",
        "            horizontalalignment=\"center\",\n",
        "            color=\"white\" if cm[i, j] > thresh else \"black\")\n",
        "\n",
        "    plt.tight_layout()\n",
        "    plt.ylabel('True label')\n",
        "    plt.xlabel('Predicted label')"
      ],
      "execution_count": 68,
      "outputs": []
    },
    {
      "cell_type": "code",
      "metadata": {
        "id": "jSV1s7EZAH5a",
        "colab_type": "code",
        "colab": {
          "base_uri": "https://localhost:8080/",
          "height": 364
        },
        "outputId": "de4d13ee-e9f2-44e8-8eea-6451cf201341"
      },
      "source": [
        "cm_plot_labels = ['no_side_effects','had_side_effects']\n",
        "plot_confusion_matrix(cm=cm, classes=cm_plot_labels, title='Confusion Matrix')\n"
      ],
      "execution_count": 69,
      "outputs": [
        {
          "output_type": "stream",
          "text": [
            "Confusion matrix, without normalization\n",
            "[[194  16]\n",
            " [  9 201]]\n"
          ],
          "name": "stdout"
        },
        {
          "output_type": "display_data",
          "data": {
            "image/png": "[encoded data removed]",
            "text/plain": [
              "<Figure size 432x288 with 2 Axes>"
            ]
          },
          "metadata": {
            "tags": [],
            "needs_background": "light"
          }
        }
      ]
    },
    {
      "cell_type": "code",
      "metadata": {
        "id": "9YfCr2OVB0Vs",
        "colab_type": "code",
        "colab": {}
      },
      "source": [
        ""
      ],
      "execution_count": 69,
      "outputs": []
    }
  ]
}