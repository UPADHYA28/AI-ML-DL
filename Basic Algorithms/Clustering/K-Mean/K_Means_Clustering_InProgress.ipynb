{
  "nbformat": 4,
  "nbformat_minor": 0,
  "metadata": {
    "colab": {
      "name": "K Means Clustering-InProgress.ipynb",
      "provenance": []
    },
    "kernelspec": {
      "name": "python3",
      "display_name": "Python 3"
    }
  },
  "cells": [
    {
      "cell_type": "markdown",
      "metadata": {
        "id": "Om5BeWK6X_Kh",
        "colab_type": "text"
      },
      "source": [
        "### **K-Means**"
      ]
    },
    {
      "cell_type": "markdown",
      "metadata": {
        "id": "q4cLz44Mi5nU",
        "colab_type": "text"
      },
      "source": [
        "The K-Means algorithm uses the concept of the centroid to create K clusters. In simple terms, a centroid of n points on an x-y plane is another point having its own x and y coordinates and is often referred to as the geometric centre of the n points.\n",
        "\n",
        "![image.png](data:image/png;base64,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)\n",
        "\n",
        "In the assignment step, we assign every data point to K clusters. The algorithm goes through each of the data points and depending on which cluster is closer, in our case, whether the green cluster centroid or the blue cluster centroid; It assigns the data points to one of the 2 cluster centroids.\n",
        "\n",
        " \n",
        "\n",
        "The equation for the assignment step is as follows:\n",
        "Zi=argmin||Xi−μk||2\n",
        " \n",
        "In the optimisation step, the algorithm calculates the average of all the points in a cluster and moves the centroid to that average location.\n",
        " \n",
        "K-Means cost function is a non-convex function, which means the coordinate descent is not guaranteed to converge to the global minimum and the cost function can converge to local minima. Choosing the initial value of K centroids can affect the K-Means algorithm and its final results.\n",
        " \n",
        "**Hopkins** test examines whether data points differ significantly from uniformly distributed data in the multidimensional space.\n"
      ]
    },
    {
      "cell_type": "markdown",
      "metadata": {
        "id": "h5hXBqbEYD9U",
        "colab_type": "text"
      },
      "source": [
        "### **K-modes**"
      ]
    },
    {
      "cell_type": "markdown",
      "metadata": {
        "id": "nzjXc_ayUsZ0",
        "colab_type": "text"
      },
      "source": [
        "The K-Means clustering algorithm is undoubtedly one of the most widely used partitional algorithms for numerical data or continuous data, but K-Means can't handle categorical data, and the reason is that of the difference in the dissimilarity measure the K-Means uses.\n",
        " \n",
        "The K-modes clustering algorithm is based on K-means paradigm but removes the numeric data limitation while preserving its efficiency."
      ]
    },
    {
      "cell_type": "markdown",
      "metadata": {
        "id": "sDlC6n5rV6SD",
        "colab_type": "text"
      },
      "source": [
        "### **DB Scan Clustering**\n",
        " \n",
        "DBSCAN is a density-based clustering algorithm that divides a data set into subgroups of high-density regions. DBSCAN groups together point that are close to each other based on a distance measurement (usually Euclidean distance) and a minimum number of points. It also marks as outliers the points that are in low-density regions.\n",
        "\n",
        "DBSCAN algorithm requires 2 parameters:\n",
        " \n",
        "1. **Epsom or EPS**\n",
        " \n",
        "    EPS is a distance parameter that defines the radius to search for nearby neighbours. We can imagine each data point having a circle with radius EPS drawn around it. The value of EPS taken to cluster the data has a significant impact on the results. If the value of EPS is considered too small, decidedly fewer data points will be considered in one cluster, and a large part of the data will not be clustered. The un-clustered data points will be considered as outliers because they don't satisfy the number of points to create a dense region. If the EPS value is chosen to be very high, no real clusters will be formed as all of them will merge in the same cluster. The eps should be chosen based on the distance of the dataset (we can use a k-distance graph to find it), but in general small eps values are preferable.\n",
        "2. **MinPoints or MinSamples.**\n",
        " \n",
        "    Min Samples or Min Points are the number of minimum points to form a dense region or cluster. For example, if we set the min_samples as 5, we need at least 5 points to form a dense cluster. Minimum points can be selected from some dimensions (D) in the data set, as a general rule min points >=D+1. The DBSCAN algorithm is used to find associations and structures in the data that are usually hard to find manually.\n",
        " \n"
      ]
    },
    {
      "cell_type": "markdown",
      "metadata": {
        "id": "xtRSFLuYWpCZ",
        "colab_type": "text"
      },
      "source": [
        "DB Scan Refference: https://www.naftaliharris.com/blog/visualizing-dbscan-clustering/\n",
        "\n"
      ]
    },
    {
      "cell_type": "code",
      "metadata": {
        "id": "CdvJUig7ismu",
        "colab_type": "code",
        "colab": {}
      },
      "source": [
        ""
      ],
      "execution_count": null,
      "outputs": []
    }
  ]
}