{
  "nbformat": 4,
  "nbformat_minor": 0,
  "metadata": {
    "colab": {
      "name": "Frozen lake_value_iteration.ipynb",
      "provenance": [],
      "collapsed_sections": []
    },
    "kernelspec": {
      "name": "python3",
      "display_name": "Python 3"
    },
    "accelerator": "GPU"
  },
  "cells": [
    {
      "cell_type": "code",
      "metadata": {
        "id": "njS0Vmb2twz-"
      },
      "source": [
        "import gym\n",
        "import numpy as np"
      ],
      "execution_count": null,
      "outputs": []
    },
    {
      "cell_type": "code",
      "metadata": {
        "id": "ghTEjpr7065c"
      },
      "source": [
        "env = gym.make('FrozenLake-v0')"
      ],
      "execution_count": null,
      "outputs": []
    },
    {
      "cell_type": "code",
      "metadata": {
        "id": "Nqr2GcoG1ElB",
        "outputId": "2e1511fe-0d92-49b6-8c62-7c01f70a70bb",
        "colab": {
          "base_uri": "https://localhost:8080/",
          "height": 35
        }
      },
      "source": [
        "env.observation_space.n"
      ],
      "execution_count": null,
      "outputs": [
        {
          "output_type": "execute_result",
          "data": {
            "text/plain": [
              "16"
            ]
          },
          "metadata": {
            "tags": []
          },
          "execution_count": 5
        }
      ]
    },
    {
      "cell_type": "code",
      "metadata": {
        "id": "0GpzsRTs1buu",
        "outputId": "53f32617-73db-401f-a3ab-619122a2ecdf",
        "colab": {
          "base_uri": "https://localhost:8080/",
          "height": 35
        }
      },
      "source": [
        "env.action_space.n"
      ],
      "execution_count": null,
      "outputs": [
        {
          "output_type": "execute_result",
          "data": {
            "text/plain": [
              "4"
            ]
          },
          "metadata": {
            "tags": []
          },
          "execution_count": 6
        }
      ]
    },
    {
      "cell_type": "code",
      "metadata": {
        "id": "P2yDtXcG1tFs"
      },
      "source": [
        "value_table = np.zeros(env.observation_space.n)\n",
        "no_of_iterations = 100000"
      ],
      "execution_count": null,
      "outputs": []
    },
    {
      "cell_type": "code",
      "metadata": {
        "id": "Gl-NDGhQ3z0Y"
      },
      "source": [
        "for i in range(no_of_iterations):\n",
        "  updated_value_table = np.copy(value_table)"
      ],
      "execution_count": null,
      "outputs": []
    },
    {
      "cell_type": "code",
      "metadata": {
        "id": "q-ZqZ5ML31Ur",
        "outputId": "ccda1871-395c-4e6c-ed9f-7d603d19caae",
        "colab": {
          "base_uri": "https://localhost:8080/",
          "height": 35
        }
      },
      "source": [
        "updated_value_table"
      ],
      "execution_count": null,
      "outputs": [
        {
          "output_type": "execute_result",
          "data": {
            "text/plain": [
              "array([0., 0., 0., 0., 0., 0., 0., 0., 0., 0., 0., 0., 0., 0., 0., 0.])"
            ]
          },
          "metadata": {
            "tags": []
          },
          "execution_count": 9
        }
      ]
    },
    {
      "cell_type": "code",
      "metadata": {
        "id": "BJxvEccFbayF"
      },
      "source": [
        "### Value iteration"
      ],
      "execution_count": null,
      "outputs": []
    },
    {
      "cell_type": "code",
      "metadata": {
        "id": "ZOwhQyEgBdl-"
      },
      "source": [
        "def value_iteration(env, gamma = 1.0):\n",
        "  value_table = np.zeros(env.observation_space.n)\n",
        "  no_of_iterations = 100000\n",
        "  threshold = 1e-20\n",
        "  for i in range(no_of_iterations):\n",
        "    updated_value_table = np.copy(value_table)\n",
        "    for state in range(env.observation_space.n):\n",
        "      Q_value = []\n",
        "      for action in range(env.action_space.n):\n",
        "        next_states_rewards = []\n",
        "        for next_sr in env.P[state][action]:\n",
        "          trans_prob, next_state, reward_prob, _ = next_sr\n",
        "          next_states_rewards.append((trans_prob * (reward_prob + gamma * updated_value_table[next_state])))\n",
        "        Q_value.append(np.sum(next_states_rewards))\n",
        "      value_table[state] = max(Q_value)\n",
        "    if (np.sum(np.fabs(updated_value_table - value_table)) <=threshold):\n",
        "      print ('Value-iteration converged at iteration# %d.' %(i+1))\n",
        "      break\n",
        "  return value_table"
      ],
      "execution_count": null,
      "outputs": []
    },
    {
      "cell_type": "code",
      "metadata": {
        "id": "q5bqhIakN1Uo",
        "outputId": "e7a45382-d72d-41ec-981d-1baaa71f26f7",
        "colab": {
          "base_uri": "https://localhost:8080/",
          "height": 35
        }
      },
      "source": [
        "optimal_value_function = value_iteration(env=env,gamma=1.0)"
      ],
      "execution_count": null,
      "outputs": [
        {
          "output_type": "stream",
          "text": [
            "Value-iteration converged at iteration# 1373.\n"
          ],
          "name": "stdout"
        }
      ]
    },
    {
      "cell_type": "code",
      "metadata": {
        "id": "JTokp71kOPvm"
      },
      "source": [
        "policy = np.zeros(env.observation_space.n)"
      ],
      "execution_count": null,
      "outputs": []
    },
    {
      "cell_type": "code",
      "metadata": {
        "id": "atO1dE9bY_0D"
      },
      "source": [
        "def extract_policy(value_table, gamma = 1.0):\n",
        "  policy = np.zeros(env.observation_space.n)\n",
        "  for state in range(env.observation_space.n):\n",
        "    Q_table = np.zeros(env.action_space.n)\n",
        "    for action in range(env.action_space.n):\n",
        "      for next_sr in env.P[state][action]:\n",
        "        trans_prob, next_state, reward_prob, _ = next_sr\n",
        "        Q_table[action] += (trans_prob * (reward_prob + gamma * value_table[next_state]))\n",
        "    policy[state] = np.argmax(Q_table)\n",
        "  return policy"
      ],
      "execution_count": null,
      "outputs": []
    },
    {
      "cell_type": "code",
      "metadata": {
        "id": "fzhMXHV2Zypx"
      },
      "source": [
        "optimal_policy = extract_policy(optimal_value_function, gamma=1.0)"
      ],
      "execution_count": null,
      "outputs": []
    },
    {
      "cell_type": "code",
      "metadata": {
        "id": "2zYUWwxjaV1Y",
        "outputId": "0bd63148-7c0d-49c5-b3d5-f9f1401d5552",
        "colab": {
          "base_uri": "https://localhost:8080/",
          "height": 35
        }
      },
      "source": [
        "  optimal_policy"
      ],
      "execution_count": null,
      "outputs": [
        {
          "output_type": "execute_result",
          "data": {
            "text/plain": [
              "array([0., 3., 3., 3., 0., 0., 0., 0., 3., 1., 0., 0., 0., 2., 1., 0.])"
            ]
          },
          "metadata": {
            "tags": []
          },
          "execution_count": 15
        }
      ]
    },
    {
      "cell_type": "code",
      "metadata": {
        "id": "HaV71qH1bT2p"
      },
      "source": [
        "### Policy iteration"
      ],
      "execution_count": null,
      "outputs": []
    },
    {
      "cell_type": "code",
      "metadata": {
        "id": "X8KzmmPLbzeF"
      },
      "source": [
        ""
      ],
      "execution_count": null,
      "outputs": []
    }
  ]
}